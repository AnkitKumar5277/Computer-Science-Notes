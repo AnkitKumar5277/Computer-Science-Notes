{
 "cells": [
  {
   "cell_type": "markdown",
   "id": "c12d15b9-32ed-4405-a079-b3a1a24839d9",
   "metadata": {},
   "source": [
    "# Conditional Statement"
   ]
  },
  {
   "cell_type": "markdown",
   "id": "f3734223-dc33-4fed-adab-d2d610792d33",
   "metadata": {},
   "source": [
    "## if Statement"
   ]
  },
  {
   "cell_type": "code",
   "execution_count": 3,
   "id": "1cdea6d4-f34a-4208-9e23-b7c9f5a1ee91",
   "metadata": {},
   "outputs": [
    {
     "name": "stdout",
     "output_type": "stream",
     "text": [
      "False\n",
      "10 20\n"
     ]
    },
    {
     "ename": "NameError",
     "evalue": "name 'c' is not defined",
     "output_type": "error",
     "traceback": [
      "\u001b[0;31m---------------------------------------------------------------------------\u001b[0m",
      "\u001b[0;31mNameError\u001b[0m                                 Traceback (most recent call last)",
      "Cell \u001b[0;32mIn[3], line 8\u001b[0m\n\u001b[1;32m      5\u001b[0m     c\u001b[38;5;241m=\u001b[39ma\u001b[38;5;241m+\u001b[39mb\n\u001b[1;32m      7\u001b[0m \u001b[38;5;28mprint\u001b[39m(a,b)\n\u001b[0;32m----> 8\u001b[0m \u001b[38;5;28mprint\u001b[39m(a,b,c)\n",
      "\u001b[0;31mNameError\u001b[0m: name 'c' is not defined"
     ]
    }
   ],
   "source": [
    "a=10\n",
    "b=20\n",
    "print(a>b)\n",
    "if (a>b):\n",
    "    c=a+b\n",
    "\n",
    "print(a,b)\n",
    "print(a,b,c)\n"
   ]
  },
  {
   "cell_type": "code",
   "execution_count": null,
   "id": "4b37e998",
   "metadata": {},
   "outputs": [],
   "source": [
    "a=20\n",
    "b=300\n",
    "print(a<b)\n",
    "if (a<b):\n",
    "    c=a+b\n",
    "\n",
    "print(a,b)\n",
    "print(a,b,c)\n"
   ]
  },
  {
   "cell_type": "markdown",
   "id": "a696c3c1-21f4-4fad-901f-98b4ec4b086d",
   "metadata": {},
   "source": [
    "## if-else statement"
   ]
  },
  {
   "cell_type": "code",
   "execution_count": 10,
   "id": "f7a4470b-7845-4ab3-944b-919b8fe3def9",
   "metadata": {},
   "outputs": [
    {
     "name": "stdin",
     "output_type": "stream",
     "text": [
      "Enter any number:  18\n"
     ]
    },
    {
     "name": "stdout",
     "output_type": "stream",
     "text": [
      "Even\n"
     ]
    }
   ],
   "source": [
    "x=int(input(\"Enter any number: \"))\n",
    "if (x%2==0):\n",
    "    print(\"Even\")\n",
    "else:\n",
    "    print(\"Odd\")"
   ]
  },
  {
   "cell_type": "markdown",
   "id": "dd4c9f55-35f0-4ad3-8543-51b7c127c0ce",
   "metadata": {
    "jp-MarkdownHeadingCollapsed": true
   },
   "source": [
    "## Short hand if statement"
   ]
  },
  {
   "cell_type": "markdown",
   "id": "e094527b-7e4a-4049-b9e4-b87d6628417d",
   "metadata": {},
   "source": [
    "## if-elif-else statement"
   ]
  },
  {
   "cell_type": "markdown",
   "id": "9fb0b5f1-e97d-4d86-bf74-eb89c067c6a5",
   "metadata": {},
   "source": [
    "## Build a Calculator"
   ]
  },
  {
   "cell_type": "markdown",
   "id": "9dbae9d6-4f95-418e-8e0a-a1afcd25b3e3",
   "metadata": {},
   "source": [
    "## Nested if statement"
   ]
  },
  {
   "cell_type": "code",
   "execution_count": 21,
   "id": "979ae745-4356-4588-ab3b-a80ab2aa29b1",
   "metadata": {},
   "outputs": [
    {
     "ename": "IndentationError",
     "evalue": "unindent does not match any outer indentation level (<string>, line 11)",
     "output_type": "error",
     "traceback": [
      "\u001b[0;36m  File \u001b[0;32m<string>:11\u001b[0;36m\u001b[0m\n\u001b[0;31m    else:\u001b[0m\n\u001b[0m         ^\u001b[0m\n\u001b[0;31mIndentationError\u001b[0m\u001b[0;31m:\u001b[0m unindent does not match any outer indentation level\n"
     ]
    }
   ],
   "source": [
    "i=int(input(\"Enter any number: \"))\n",
    "if i%2==0:\n",
    "    print(\"number is divisible by 2\")\n",
    "\n",
    "    if i%3==0:\n",
    "        print(\"number is divisible by 3\")\n",
    "    \n",
    "    else:\n",
    "        print(\"number is not divisible by 3\")\n",
    "\n",
    "else:\n",
    "    print(\"number is not divisible by 2\")"
   ]
  },
  {
   "cell_type": "markdown",
   "id": "0c93c1f5-83d8-4e90-9af4-22bf20b03bd4",
   "metadata": {},
   "source": [
    "# Range method"
   ]
  },
  {
   "cell_type": "code",
   "execution_count": 37,
   "id": "7ff80d5f-eddf-42fd-af39-679d5e367084",
   "metadata": {},
   "outputs": [
    {
     "name": "stdout",
     "output_type": "stream",
     "text": [
      "[10, 9, 8, 7, 6, 5, 4, 3, 2, 1]\n"
     ]
    }
   ],
   "source": [
    "x=list(range(10,0,-1))\n",
    "print(x)"
   ]
  },
  {
   "cell_type": "markdown",
   "id": "acf9e028-0e8a-4832-8c7c-0ffc3d3d8636",
   "metadata": {},
   "source": [
    "# Loops concept"
   ]
  },
  {
   "cell_type": "markdown",
   "id": "05b7728c-fe9f-4fa1-89cd-60d6b8498bd8",
   "metadata": {},
   "source": [
    "## For loop"
   ]
  },
  {
   "cell_type": "code",
   "execution_count": 66,
   "id": "1e5b3763-07ca-4406-8041-0a0783a1917a",
   "metadata": {},
   "outputs": [
    {
     "name": "stdout",
     "output_type": "stream",
     "text": [
      "1@2@3@4@5@6@7@8@9@10@\n",
      "10\n",
      "20\n",
      "30\n"
     ]
    }
   ],
   "source": [
    "for i in range(1,11):\n",
    "    print(i,end=\"@\")\n",
    "\n",
    "        #      i=3\n",
    "#  i=2 in (1,2,3,4,5,6,7,8,9,10)\n",
    "# 1@2@3@\n",
    "\n",
    "\n",
    "\n",
    "\n",
    "\n",
    "\n",
    "\n",
    "\n",
    "# (1,2,3,4,5,6,7,8,9,10)\n",
    "print()\n",
    "print(10,20,30,sep=\"\\n\")"
   ]
  },
  {
   "cell_type": "markdown",
   "id": "fc9974b8-0ac9-4dc5-a2fa-9a3d42185196",
   "metadata": {
    "jp-MarkdownHeadingCollapsed": true
   },
   "source": [
    "## Short hand for loop"
   ]
  },
  {
   "cell_type": "markdown",
   "id": "960cbaae-3972-432f-8f27-1b8c8bc15c7e",
   "metadata": {
    "jp-MarkdownHeadingCollapsed": true
   },
   "source": [
    "## Break and Continue"
   ]
  },
  {
   "cell_type": "markdown",
   "id": "1be3c36c-5d5e-4113-8c34-d7a2c1f4c2eb",
   "metadata": {
    "jp-MarkdownHeadingCollapsed": true
   },
   "source": [
    "## while loop"
   ]
  },
  {
   "cell_type": "markdown",
   "id": "3fa12e85-73e0-4f42-8e11-3e4c9b6f5471",
   "metadata": {
    "jp-MarkdownHeadingCollapsed": true
   },
   "source": [
    "## while true loop"
   ]
  },
  {
   "cell_type": "markdown",
   "id": "3688212f-55ee-4aa1-b667-3d4ea01d9515",
   "metadata": {
    "jp-MarkdownHeadingCollapsed": true
   },
   "source": [
    "## Nested loop"
   ]
  }
 ],
 "metadata": {
  "kernelspec": {
   "display_name": "Python 3 (ipykernel)",
   "language": "python",
   "name": "python3"
  },
  "language_info": {
   "codemirror_mode": {
    "name": "ipython",
    "version": 3
   },
   "file_extension": ".py",
   "mimetype": "text/x-python",
   "name": "python",
   "nbconvert_exporter": "python",
   "pygments_lexer": "ipython3",
   "version": "3.12.4"
  }
 },
 "nbformat": 4,
 "nbformat_minor": 5
}

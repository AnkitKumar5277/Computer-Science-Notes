{
 "cells": [
  {
   "cell_type": "code",
   "execution_count": 10,
   "id": "b8f65a6d-3e0d-48cf-bac0-474d75f2b029",
   "metadata": {},
   "outputs": [
    {
     "name": "stdin",
     "output_type": "stream",
     "text": [
      "enter first number:  7\n",
      "enter second number:  9\n"
     ]
    },
    {
     "name": "stdout",
     "output_type": "stream",
     "text": [
      "1. Addition\n",
      "2. subtraction\n",
      "3. Multiplication\n",
      "4. Division\n",
      "Which operation you want to perform : Choose between (1/2/3/4)\n"
     ]
    },
    {
     "name": "stdin",
     "output_type": "stream",
     "text": [
      " Choose your operation : 9\n"
     ]
    },
    {
     "name": "stdout",
     "output_type": "stream",
     "text": [
      "invalid choice\n"
     ]
    }
   ],
   "source": [
    "a=int(input(\"enter first number: \"))\n",
    "b=int(input(\"enter second number: \"))\n",
    "print(\"1. Addition\")\n",
    "print(\"2. subtraction\")\n",
    "print(\"3. Multiplication\")\n",
    "print(\"4. Division\")\n",
    "print(\"Which operation you want to perform : Choose between (1/2/3/4)\")\n",
    "choice=int(input(\" Choose your operation :\"))\n",
    "# logic\n",
    "if (choice==1):\n",
    "    print(\"Addition of two number is\",a+b)\n",
    "elif(choice==2):\n",
    "    print(a-b)\n",
    "elif(choice==3):\n",
    "    print(a*b)\n",
    "elif(choice==4):\n",
    "    if b==0:\n",
    "        print(\"Invalid input\")\n",
    "    else:\n",
    "        print(a/b)\n",
    "else:\n",
    "    print(\"invalid choice\")"
   ]
  },
  {
   "cell_type": "code",
   "execution_count": 59,
   "id": "f06ee297-dbcb-4755-a9b5-6ba45df831e0",
   "metadata": {},
   "outputs": [
    {
     "name": "stdin",
     "output_type": "stream",
     "text": [
      "enter any input: 12\n"
     ]
    },
    {
     "name": "stdout",
     "output_type": "stream",
     "text": [
      "int\n"
     ]
    }
   ],
   "source": [
    "a=input(\"enter any input:\")\n",
    "intflag=True\n",
    "try:\n",
    "    a=int(a)\n",
    "    print(\"int\")\n",
    "    intflag=False\n",
    "\n",
    "except ValueError:\n",
    "    pass\n",
    "    \n",
    "if(intflag):\n",
    "    try:\n",
    "        a=float(a)\n",
    "        print(\"float\")\n",
    "        \n",
    "    except ValueError:\n",
    "        pass\n",
    "\n",
    "if (a==\"True\") or (a==\"False\"):\n",
    "    print('boolean')\n",
    "if type(a)==str and a!=\"True\" and b!=\"False\":\n",
    "    print(\"str\")\n"
   ]
  },
  {
   "cell_type": "code",
   "execution_count": 63,
   "id": "e177ba65-710c-4737-bb34-1da86267fa40",
   "metadata": {},
   "outputs": [
    {
     "name": "stdout",
     "output_type": "stream",
     "text": [
      "10\n",
      "10.0\n"
     ]
    }
   ],
   "source": [
    "b=10\n",
    "print(int(b))\n",
    "print(float(b))\n",
    "\n"
   ]
  },
  {
   "cell_type": "code",
   "execution_count": null,
   "id": "8368f964-d67f-4449-9fb0-a235a556cb74",
   "metadata": {},
   "outputs": [],
   "source": []
  }
 ],
 "metadata": {
  "kernelspec": {
   "display_name": "Python 3 (ipykernel)",
   "language": "python",
   "name": "python3"
  },
  "language_info": {
   "codemirror_mode": {
    "name": "ipython",
    "version": 3
   },
   "file_extension": ".py",
   "mimetype": "text/x-python",
   "name": "python",
   "nbconvert_exporter": "python",
   "pygments_lexer": "ipython3",
   "version": "3.12.4"
  }
 },
 "nbformat": 4,
 "nbformat_minor": 5
}

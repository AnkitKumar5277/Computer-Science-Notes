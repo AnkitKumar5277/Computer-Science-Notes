{
 "cells": [
  {
   "cell_type": "markdown",
   "id": "3cb01cfd-4559-4852-931d-0dd8fc4bd206",
   "metadata": {},
   "source": [
    "# Operators"
   ]
  },
  {
   "cell_type": "markdown",
   "id": "4b6e9848-55f4-4d04-a295-8971767145f8",
   "metadata": {},
   "source": [
    "## Arithmatic Operators"
   ]
  },
  {
   "cell_type": "code",
   "execution_count": 18,
   "id": "eb8154f3-cd07-4ed8-a823-1e5d43684c58",
   "metadata": {},
   "outputs": [
    {
     "name": "stdout",
     "output_type": "stream",
     "text": [
      "22\n",
      "-2\n",
      "120\n",
      "4.5\n",
      "1\n",
      "4\n",
      "8\n"
     ]
    }
   ],
   "source": [
    "print(10+12)\n",
    "print(10-12)\n",
    "print(10*12)\n",
    "print(9/2)\n",
    "print(9%2)\n",
    "print(9//2)\n",
    "print(2**3)"
   ]
  },
  {
   "cell_type": "markdown",
   "id": "a8675845-08bd-45da-b761-984c8d95afa8",
   "metadata": {},
   "source": [
    "## Relational Operators"
   ]
  },
  {
   "cell_type": "code",
   "execution_count": null,
   "id": "2507043f-9dd0-430d-8bd8-c21a3eb91756",
   "metadata": {},
   "outputs": [],
   "source": [
    "a=10\n",
    "b=20\n",
    "print(a==b)\n",
    "print(a==b)"
   ]
  },
  {
   "cell_type": "markdown",
   "id": "c9b38ad6-fd2c-471f-b1b1-d4c4d58bb0ff",
   "metadata": {},
   "source": [
    "## Assignment Operators"
   ]
  },
  {
   "cell_type": "markdown",
   "id": "3a8e2621-7977-49d6-b590-f3d118f7f28a",
   "metadata": {},
   "source": [
    "## Logical Operators"
   ]
  },
  {
   "cell_type": "code",
   "execution_count": 34,
   "id": "3e056b8a-6057-418a-9b97-929ce037e354",
   "metadata": {
    "scrolled": true
   },
   "outputs": [
    {
     "name": "stdout",
     "output_type": "stream",
     "text": [
      "False\n",
      "True\n",
      "True\n",
      "False\n"
     ]
    }
   ],
   "source": [
    "a=10\n",
    "b=12\n",
    "# cond_1: a<b\n",
    "# cond_2: a>=b\n",
    "# cond_3: a==b\n",
    "\n",
    "print((a<b) and (a>=b) and (a==b))\n",
    "print((a<b) or (a>=b) or (a==b))\n",
    "print((a<b) or (a>=b) and (not (a==b)))\n",
    "print(not(a<b))"
   ]
  },
  {
   "cell_type": "markdown",
   "id": "7b1fecbd-28eb-4ac3-b0e6-95fcaeb65b05",
   "metadata": {},
   "source": [
    "## Membership Operators"
   ]
  },
  {
   "cell_type": "markdown",
   "id": "ce1a3604-8b2d-4562-ae38-2598e07dac66",
   "metadata": {},
   "source": [
    "## Identity Operators"
   ]
  },
  {
   "cell_type": "markdown",
   "id": "079e83c9-58f8-4392-a14a-d69450d5cb29",
   "metadata": {},
   "source": [
    "## Bitwise Operators"
   ]
  },
  {
   "cell_type": "markdown",
   "id": "ac900957-e7dc-48a5-9f40-8a2d5a8299ff",
   "metadata": {},
   "source": [
    "# Taking Input From User"
   ]
  },
  {
   "cell_type": "code",
   "execution_count": 48,
   "id": "c0b57a86-8299-46c7-8054-36bdfd8158d4",
   "metadata": {},
   "outputs": [
    {
     "name": "stdin",
     "output_type": "stream",
     "text": [
      "Enter your name:  kri\n",
      "Enter your age:  35\n",
      "Enter your height:  8.9\n"
     ]
    },
    {
     "name": "stdout",
     "output_type": "stream",
     "text": [
      "kri 35 8.9\n",
      "<class 'str'>\n",
      "<class 'int'>\n",
      "<class 'float'>\n"
     ]
    }
   ],
   "source": [
    "name=input(\"Enter your name: \")\n",
    "age=int(input(\"Enter your age: \"))\n",
    "height=float(input(\"Enter your height: \"))\n",
    "print(name,age,height)\n",
    "print(type(name))\n",
    "print(type(age))\n",
    "print(type(height))"
   ]
  },
  {
   "cell_type": "markdown",
   "id": "c12d15b9-32ed-4405-a079-b3a1a24839d9",
   "metadata": {},
   "source": [
    "# Conditional Statement"
   ]
  },
  {
   "cell_type": "markdown",
   "id": "f3734223-dc33-4fed-adab-d2d610792d33",
   "metadata": {},
   "source": [
    "## if Statement"
   ]
  },
  {
   "cell_type": "code",
   "execution_count": 1,
   "id": "1cdea6d4-f34a-4208-9e23-b7c9f5a1ee91",
   "metadata": {},
   "outputs": [
    {
     "name": "stdout",
     "output_type": "stream",
     "text": [
      "False\n",
      "10 20\n"
     ]
    },
    {
     "ename": "NameError",
     "evalue": "name 'c' is not defined",
     "output_type": "error",
     "traceback": [
      "\u001b[0;31m---------------------------------------------------------------------------\u001b[0m",
      "\u001b[0;31mNameError\u001b[0m                                 Traceback (most recent call last)",
      "Cell \u001b[0;32mIn[1], line 8\u001b[0m\n\u001b[1;32m      5\u001b[0m     c\u001b[38;5;241m=\u001b[39ma\u001b[38;5;241m+\u001b[39mb\n\u001b[1;32m      7\u001b[0m \u001b[38;5;28mprint\u001b[39m(a,b)\n\u001b[0;32m----> 8\u001b[0m \u001b[38;5;28mprint\u001b[39m(a,b,c)\n",
      "\u001b[0;31mNameError\u001b[0m: name 'c' is not defined"
     ]
    }
   ],
   "source": [
    "a=10\n",
    "b=20\n",
    "print(a>b)\n",
    "if (a>b):\n",
    "    c=a+b\n",
    "\n",
    "print(a,b)\n",
    "print(a,b,c)\n"
   ]
  },
  {
   "cell_type": "code",
   "execution_count": 8,
   "id": "4b37e998",
   "metadata": {},
   "outputs": [
    {
     "name": "stdout",
     "output_type": "stream",
     "text": [
      "True\n",
      "20 300\n",
      "20 300 320\n"
     ]
    }
   ],
   "source": [
    "a=20\n",
    "b=300\n",
    "print(a<b)\n",
    "if (a<b):\n",
    "    c=a+b\n",
    "\n",
    "print(a,b)\n",
    "print(a,b,c)\n"
   ]
  },
  {
   "cell_type": "markdown",
   "id": "a696c3c1-21f4-4fad-901f-98b4ec4b086d",
   "metadata": {},
   "source": [
    "## if-else statement"
   ]
  },
  {
   "cell_type": "markdown",
   "id": "e094527b-7e4a-4049-b9e4-b87d6628417d",
   "metadata": {},
   "source": [
    "## if-elif-else statement"
   ]
  }
 ],
 "metadata": {
  "kernelspec": {
   "display_name": "Python 3 (ipykernel)",
   "language": "python",
   "name": "python3"
  },
  "language_info": {
   "codemirror_mode": {
    "name": "ipython",
    "version": 3
   },
   "file_extension": ".py",
   "mimetype": "text/x-python",
   "name": "python",
   "nbconvert_exporter": "python",
   "pygments_lexer": "ipython3",
   "version": "3.12.4"
  }
 },
 "nbformat": 4,
 "nbformat_minor": 5
}

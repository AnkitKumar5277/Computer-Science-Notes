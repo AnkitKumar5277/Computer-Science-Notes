{
 "cells": [
  {
   "cell_type": "markdown",
   "id": "6dce9a08-e752-40a7-9504-95bf56270e4f",
   "metadata": {},
   "source": [
    "# Day 4 SkillSiya Python Class"
   ]
  },
  {
   "cell_type": "markdown",
   "id": "468a7b77-d16f-439e-8368-451c9171f09b",
   "metadata": {},
   "source": [
    "## Data Types"
   ]
  },
  {
   "cell_type": "code",
   "execution_count": 3,
   "id": "ca065bb2-b98c-4e13-9eda-550a885acf78",
   "metadata": {},
   "outputs": [],
   "source": [
    "# int,float,complex,String,list,set,tuple,set,dictinory ,boolean"
   ]
  },
  {
   "cell_type": "markdown",
   "id": "1fac4625-0c1d-4cde-aabf-4bc88b9975de",
   "metadata": {},
   "source": [
    "## Categories of Data type"
   ]
  },
  {
   "cell_type": "code",
   "execution_count": 15,
   "id": "d2a2e301-18ac-459d-8684-eedde78adf9d",
   "metadata": {},
   "outputs": [
    {
     "name": "stdout",
     "output_type": "stream",
     "text": [
      "W\n",
      "30\n",
      "[10, 20, 50, 40]\n"
     ]
    },
    {
     "ename": "TypeError",
     "evalue": "'str' object does not support item assignment",
     "output_type": "error",
     "traceback": [
      "\u001b[0;31m---------------------------------------------------------------------------\u001b[0m",
      "\u001b[0;31mTypeError\u001b[0m                                 Traceback (most recent call last)",
      "Cell \u001b[0;32mIn[15], line 14\u001b[0m\n\u001b[1;32m     11\u001b[0m \u001b[38;5;28mprint\u001b[39m(l2)\n\u001b[1;32m     13\u001b[0m s\u001b[38;5;241m=\u001b[39m\u001b[38;5;124m\"\u001b[39m\u001b[38;5;124mHello World\u001b[39m\u001b[38;5;124m\"\u001b[39m\n\u001b[0;32m---> 14\u001b[0m s[\u001b[38;5;241m6\u001b[39m]\u001b[38;5;241m=\u001b[39m\u001b[38;5;124m\"\u001b[39m\u001b[38;5;124mw\u001b[39m\u001b[38;5;124m\"\u001b[39m\n\u001b[1;32m     15\u001b[0m \u001b[38;5;28mprint\u001b[39m(s)\n",
      "\u001b[0;31mTypeError\u001b[0m: 'str' object does not support item assignment"
     ]
    }
   ],
   "source": [
    "#Sequence\n",
    "s=\"Hello World\"\n",
    "print(s[6])\n",
    "l=[10,20,30,40]\n",
    "print(l[2])\n",
    "# Non-sequence\n",
    "s={1,2,3,40}\n",
    "# This will through an error so comment the print(s[3]) before run\n",
    "print(s[3])\n",
    "#Mutable\n",
    "l2=[10,20,30,40]\n",
    "l2[2]=50\n",
    "print(l2)\n",
    "#Immutable\n",
    "s=\"Hello World\"\n",
    "s[6]=\"w\"\n",
    "print(s)"
   ]
  },
  {
   "cell_type": "code",
   "execution_count": null,
   "id": "5fb26049-019c-4c8c-b193-2f5058507d77",
   "metadata": {},
   "outputs": [],
   "source": []
  },
  {
   "cell_type": "markdown",
   "id": "fb3e0733-55de-43be-8b6e-8f506e945a95",
   "metadata": {},
   "source": [
    "## type() method"
   ]
  },
  {
   "cell_type": "code",
   "execution_count": 31,
   "id": "7455ccc0-c2ad-4267-aa73-564de998c59b",
   "metadata": {},
   "outputs": [
    {
     "name": "stdout",
     "output_type": "stream",
     "text": [
      "<class 'set'>\n",
      "<class 'list'>\n",
      "<class 'int'>\n",
      "<class 'float'>\n",
      "<class 'set'>\n",
      "<class 'tuple'>\n",
      "<class 'dict'>\n",
      "<class 'bool'>\n"
     ]
    }
   ],
   "source": [
    "# used to find the type of any value or variable\n",
    "s=\"Hello World\"\n",
    "l2=[10,20,30,40,\"a\"]\n",
    "a=10\n",
    "f=10.25\n",
    "t=(1,2,3,40,\"a\")\n",
    "s={1,2,3,4,\"a\"}\n",
    "d={1:\"a\",2:\"b\"}\n",
    "b=True\n",
    "print(type(s))\n",
    "print(type(l2))\n",
    "print(type(a))\n",
    "print(type(f))\n",
    "print(type(s))\n",
    "print(type(t))\n",
    "print(type(d))\n",
    "print(type(b))"
   ]
  },
  {
   "cell_type": "markdown",
   "id": "77ec27bc-2aea-4bb2-bb80-2fcede79eba4",
   "metadata": {},
   "source": [
    "## Data Type conversion"
   ]
  },
  {
   "cell_type": "markdown",
   "id": "21bad5b5-4af0-4a19-a417-2ddd5b746b59",
   "metadata": {},
   "source": [
    "### Implicit type conversion"
   ]
  },
  {
   "cell_type": "code",
   "execution_count": 23,
   "id": "87a41bfd-5e7a-4e47-b426-94115d32cc32",
   "metadata": {},
   "outputs": [
    {
     "name": "stdout",
     "output_type": "stream",
     "text": [
      "<class 'int'>\n",
      "<class 'float'>\n"
     ]
    }
   ],
   "source": [
    "# This is the type  casting in which one data type is converted into\n",
    "# A different data type automatically when needed.\n",
    "a=10\n",
    "b=a+8.4\n",
    "print(type(a))\n",
    "print(type(b))"
   ]
  },
  {
   "cell_type": "markdown",
   "id": "53feb46e-3def-4547-9f0a-a4bf212a024f",
   "metadata": {},
   "source": [
    "### Explicit type convertion"
   ]
  },
  {
   "cell_type": "code",
   "execution_count": 27,
   "id": "0aabcffb-ea9f-4531-a6e0-30ea6949797d",
   "metadata": {},
   "outputs": [
    {
     "name": "stdout",
     "output_type": "stream",
     "text": [
      "<class 'str'>\n",
      "48\n",
      "<class 'int'>\n"
     ]
    }
   ],
   "source": [
    "# This is the type  casting in which one data type is converted into\n",
    "# A different data type by user\n",
    "age='48'\n",
    "print(type(age))\n",
    "# type casting\n",
    "h=int(age)\n",
    "print(h)\n",
    "print(type(h))"
   ]
  },
  {
   "cell_type": "code",
   "execution_count": null,
   "id": "631236ab-3f49-4789-a1ec-2d2aa12ee4b3",
   "metadata": {},
   "outputs": [],
   "source": []
  }
 ],
 "metadata": {
  "kernelspec": {
   "display_name": "Python 3 (ipykernel)",
   "language": "python",
   "name": "python3"
  },
  "language_info": {
   "codemirror_mode": {
    "name": "ipython",
    "version": 3
   },
   "file_extension": ".py",
   "mimetype": "text/x-python",
   "name": "python",
   "nbconvert_exporter": "python",
   "pygments_lexer": "ipython3",
   "version": "3.12.4"
  }
 },
 "nbformat": 4,
 "nbformat_minor": 5
}
